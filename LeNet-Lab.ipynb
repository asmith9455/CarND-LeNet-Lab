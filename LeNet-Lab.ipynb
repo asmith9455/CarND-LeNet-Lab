{
 "cells": [
  {
   "cell_type": "markdown",
   "metadata": {},
   "source": [
    "# LeNet Lab\n",
    "![LeNet Architecture](lenet.png)\n",
    "Source: Yan LeCun"
   ]
  },
  {
   "cell_type": "markdown",
   "metadata": {},
   "source": [
    "## Load Data\n",
    "\n",
    "Load the MNIST data, which comes pre-loaded with TensorFlow.\n",
    "\n",
    "You do not need to modify this section."
   ]
  },
  {
   "cell_type": "code",
   "execution_count": 1,
   "metadata": {
    "scrolled": true
   },
   "outputs": [
    {
     "name": "stdout",
     "output_type": "stream",
     "text": [
      "Successfully downloaded train-images-idx3-ubyte.gz 9912422 bytes.\n",
      "Extracting MNIST_data/train-images-idx3-ubyte.gz\n",
      "Successfully downloaded train-labels-idx1-ubyte.gz 28881 bytes.\n",
      "Extracting MNIST_data/train-labels-idx1-ubyte.gz\n",
      "Successfully downloaded t10k-images-idx3-ubyte.gz 1648877 bytes.\n",
      "Extracting MNIST_data/t10k-images-idx3-ubyte.gz\n",
      "Successfully downloaded t10k-labels-idx1-ubyte.gz 4542 bytes.\n",
      "Extracting MNIST_data/t10k-labels-idx1-ubyte.gz\n",
      "\n",
      "Image Shape: (28, 28, 1)\n",
      "\n",
      "Training Set:   55000 samples\n",
      "Validation Set: 5000 samples\n",
      "Test Set:       10000 samples\n"
     ]
    }
   ],
   "source": [
    "from tensorflow.examples.tutorials.mnist import input_data\n",
    "\n",
    "mnist = input_data.read_data_sets(\"MNIST_data/\", reshape=False)\n",
    "X_train, y_train           = mnist.train.images, mnist.train.labels\n",
    "X_validation, y_validation = mnist.validation.images, mnist.validation.labels\n",
    "X_test, y_test             = mnist.test.images, mnist.test.labels\n",
    "\n",
    "assert(len(X_train) == len(y_train))\n",
    "assert(len(X_validation) == len(y_validation))\n",
    "assert(len(X_test) == len(y_test))\n",
    "\n",
    "print()\n",
    "print(\"Image Shape: {}\".format(X_train[0].shape))\n",
    "print()\n",
    "print(\"Training Set:   {} samples\".format(len(X_train)))\n",
    "print(\"Validation Set: {} samples\".format(len(X_validation)))\n",
    "print(\"Test Set:       {} samples\".format(len(X_test)))"
   ]
  },
  {
   "cell_type": "markdown",
   "metadata": {},
   "source": [
    "The MNIST data that TensorFlow pre-loads comes as 28x28x1 images.\n",
    "\n",
    "However, the LeNet architecture only accepts 32x32xC images, where C is the number of color channels.\n",
    "\n",
    "In order to reformat the MNIST data into a shape that LeNet will accept, we pad the data with two rows of zeros on the top and bottom, and two columns of zeros on the left and right (28+2+2 = 32).\n",
    "\n",
    "You do not need to modify this section."
   ]
  },
  {
   "cell_type": "code",
   "execution_count": 2,
   "metadata": {
    "scrolled": true
   },
   "outputs": [
    {
     "name": "stdout",
     "output_type": "stream",
     "text": [
      "Updated Image Shape: (32, 32, 1)\n"
     ]
    }
   ],
   "source": [
    "import numpy as np\n",
    "\n",
    "# Pad images with 0s\n",
    "X_train      = np.pad(X_train, ((0,0),(2,2),(2,2),(0,0)), 'constant')\n",
    "X_validation = np.pad(X_validation, ((0,0),(2,2),(2,2),(0,0)), 'constant')\n",
    "X_test       = np.pad(X_test, ((0,0),(2,2),(2,2),(0,0)), 'constant')\n",
    "    \n",
    "print(\"Updated Image Shape: {}\".format(X_train[0].shape))"
   ]
  },
  {
   "cell_type": "markdown",
   "metadata": {},
   "source": [
    "## Visualize Data\n",
    "\n",
    "View a sample from the dataset.\n",
    "\n",
    "You do not need to modify this section."
   ]
  },
  {
   "cell_type": "code",
   "execution_count": 3,
   "metadata": {
    "scrolled": true
   },
   "outputs": [
    {
     "name": "stdout",
     "output_type": "stream",
     "text": [
      "7\n"
     ]
    },
    {
     "data": {
      "image/png": "[encoded data removed]",
      "text/plain": [
       "<matplotlib.figure.Figure at 0x7f627c54f2e8>"
      ]
     },
     "metadata": {},
     "output_type": "display_data"
    }
   ],
   "source": [
    "import random\n",
    "import numpy as np\n",
    "import matplotlib.pyplot as plt\n",
    "%matplotlib inline\n",
    "\n",
    "index = random.randint(0, len(X_train))\n",
    "image = X_train[index].squeeze()\n",
    "\n",
    "plt.figure(figsize=(1,1))\n",
    "plt.imshow(image, cmap=\"gray\")\n",
    "print(y_train[index])"
   ]
  },
  {
   "cell_type": "markdown",
   "metadata": {},
   "source": [
    "## Preprocess Data\n",
    "\n",
    "Shuffle the training data.\n",
    "\n",
    "You do not need to modify this section."
   ]
  },
  {
   "cell_type": "code",
   "execution_count": 4,
   "metadata": {
    "scrolled": true
   },
   "outputs": [],
   "source": [
    "from sklearn.utils import shuffle\n",
    "\n",
    "X_train, y_train = shuffle(X_train, y_train)"
   ]
  },
  {
   "cell_type": "markdown",
   "metadata": {},
   "source": [
    "## Setup TensorFlow\n",
    "The `EPOCH` and `BATCH_SIZE` values affect the training speed and model accuracy.\n",
    "\n",
    "You do not need to modify this section."
   ]
  },
  {
   "cell_type": "code",
   "execution_count": 109,
   "metadata": {
    "collapsed": true,
    "scrolled": true
   },
   "outputs": [],
   "source": [
    "import tensorflow as tf\n",
    "\n",
    "EPOCHS = 10\n",
    "BATCH_SIZE = 64"
   ]
  },
  {
   "cell_type": "markdown",
   "metadata": {},
   "source": [
    "## TODO: Implement LeNet-5\n",
    "Implement the [LeNet-5](http://yann.lecun.com/exdb/lenet/) neural network architecture.\n",
    "\n",
    "This is the only cell you need to edit.\n",
    "### Input\n",
    "The LeNet architecture accepts a 32x32xC image as input, where C is the number of color channels. Since MNIST images are grayscale, C is 1 in this case.\n",
    "\n",
    "### Architecture\n",
    "**Layer 1: Convolutional.** The output shape should be 28x28x6.\n",
    "\n",
    "**Activation.** Your choice of activation function.\n",
    "\n",
    "**Pooling.** The output shape should be 14x14x6.\n",
    "\n",
    "**Layer 2: Convolutional.** The output shape should be 10x10x16.\n",
    "\n",
    "**Activation.** Your choice of activation function.\n",
    "\n",
    "**Pooling.** The output shape should be 5x5x16.\n",
    "\n",
    "**Flatten.** Flatten the output shape of the final pooling layer such that it's 1D instead of 3D. The easiest way to do is by using `tf.contrib.layers.flatten`, which is already imported for you.\n",
    "\n",
    "**Layer 3: Fully Connected.** This should have 120 outputs.\n",
    "\n",
    "**Activation.** Your choice of activation function.\n",
    "\n",
    "**Layer 4: Fully Connected.** This should have 84 outputs.\n",
    "\n",
    "**Activation.** Your choice of activation function.\n",
    "\n",
    "**Layer 5: Fully Connected (Logits).** This should have 10 outputs.\n",
    "\n",
    "### Output\n",
    "Return the result of the 2nd fully connected layer."
   ]
  },
  {
   "cell_type": "code",
   "execution_count": 110,
   "metadata": {
    "scrolled": true
   },
   "outputs": [],
   "source": [
    "from tensorflow.contrib.layers import flatten\n",
    "\n",
    "def LeNet(x):\n",
    "    \n",
    "    print('starting LeNet forward pass')\n",
    "    \n",
    "    # Arguments used for tf.truncated_normal, randomly defines variables for the weights and biases for each layer\n",
    "    mu = 0\n",
    "    sigma = 0.1\n",
    "    \n",
    "    # TODO: Layer 1: Convolutional. Input = 32x32x1. Output = 28x28x6.\n",
    "    \n",
    "    w1 = tf.Variable(tf.random_normal([5, 5, 1, 6]))\n",
    "    b1 = tf.Variable(tf.zeros(6))\n",
    "\n",
    "    conv_1 = tf.nn.conv2d(x, w1, strides=[1, 1, 1, 1], padding='VALID')\n",
    "    \n",
    "    print('conv_1 shape A: ', conv_1.get_shape()[1:4])\n",
    "    assert(conv_1.get_shape()[1:4] == [28, 28, 6])\n",
    "    \n",
    "    conv_1 = tf.nn.bias_add(conv_1, b1)\n",
    "    \n",
    "    print('conv_1 shape B: ', conv_1.get_shape()[1:4])\n",
    "    assert(conv_1.get_shape()[1:4] == [28, 28, 6])\n",
    "    \n",
    "    # TODO: Activation.\n",
    "    \n",
    "    conv_1 = tf.nn.relu(conv_1)\n",
    "    \n",
    "    print('conv_1 shape C: ', conv_1.get_shape()[1:4])\n",
    "    assert(conv_1.get_shape()[1:4] == [28, 28, 6])\n",
    "\n",
    "    # TODO: Pooling. Input = 28x28x6. Output = 14x14x6.\n",
    "    \n",
    "    pool_1 = tf.nn.max_pool(conv_1,ksize=[1, 2, 2, 1],strides=[1, 2, 2, 1],padding='VALID')\n",
    "\n",
    "    print('pool_1 shape: ', pool_1.get_shape()[1:4])\n",
    "    assert(pool_1.get_shape()[1:4] == [14, 14, 6])\n",
    "    \n",
    "    # TODO: Layer 2: Convolutional. Input = 14x14x6. Output = 10x10x16.\n",
    "    \n",
    "    w2 = tf.Variable(tf.random_normal([5, 5, 6, 16]))\n",
    "    b2 = tf.Variable(tf.zeros(16))\n",
    "    \n",
    "    conv_2 = tf.nn.conv2d(pool_1, w2, strides=[1, 1, 1, 1], padding='VALID')\n",
    "    \n",
    "    conv_2 = tf.nn.bias_add(conv_2, b2)\n",
    "    \n",
    "    print('conv_2 shape A: ', conv_2.get_shape()[1:4])\n",
    "    assert(conv_2.get_shape()[1:4] == [10, 10, 16])\n",
    "    \n",
    "    # TODO: Activation.\n",
    "    \n",
    "    conv_2 = tf.nn.relu(conv_2)\n",
    "    \n",
    "    print('conv_2 shape B: ', conv_2.get_shape()[1:4])\n",
    "    assert(conv_2.get_shape()[1:4] == [10, 10, 16])\n",
    "\n",
    "    # TODO: Pooling. Input = 10x10x16. Output = 5x5x16.\n",
    "    \n",
    "    pool_2 = tf.nn.max_pool(conv_2,ksize=[1,2,2,1],strides=[1,2,2,1],padding='VALID')\n",
    "    \n",
    "    print('pool_2 shape: ', pool_2.get_shape()[1:4])\n",
    "    assert(pool_2.get_shape()[1:4] == [5, 5, 16])\n",
    "\n",
    "    # TODO: Flatten. Input = 5x5x16. Output = 400.\n",
    "    \n",
    "    #flat = tf.reshape(pool_2, [-1, 1, 400]) #should be a row vector with 400 elements\n",
    "    flat = flatten(pool_2)\n",
    "    \n",
    "    print('flat shape: ', flat.get_shape()[1:3])\n",
    "    #assert(flat.get_shape()[1:3] == [1, 400])\n",
    "    \n",
    "    # TODO: Layer 3: Fully Connected. Input = 400. Output = 120.\n",
    "    \n",
    "    w_fc1 = tf.Variable(tf.random_normal([400,120]))\n",
    "    b_fc1 = tf.Variable(tf.zeros(120))\n",
    "    \n",
    "    fc1 = tf.matmul(flat, w_fc1)\n",
    "    fc1 = tf.add(fc1, b_fc1)\n",
    "    \n",
    "    print('fc1 shape: ', fc1.get_shape())\n",
    "    #assert(fc1.get_shape() == [1, 120])\n",
    "    \n",
    "    # TODO: Activation.\n",
    "    \n",
    "    fc1 = tf.nn.relu(fc1)\n",
    "    \n",
    "    print('fc1 shape: ', fc1.get_shape())\n",
    "    #assert(fc1.get_shape() == [1, 120])\n",
    "\n",
    "    # TODO: Layer 4: Fully Connected. Input = 120. Output = 84.\n",
    "    \n",
    "    w_fc2 = tf.Variable(tf.random_normal([120,84]))\n",
    "    b_fc2 = tf.Variable(tf.zeros(84))\n",
    "    \n",
    "    fc2 = tf.matmul(fc1, w_fc2)\n",
    "    fc2 = tf.add(fc2, b_fc2)\n",
    "    \n",
    "    print('fc2 shape: ', fc2.get_shape())\n",
    "    #assert(fc2.get_shape() == [1, 84])\n",
    "    \n",
    "    # TODO: Activation.\n",
    "    \n",
    "    fc2 = tf.nn.relu(fc2)\n",
    "    \n",
    "    print('fc2 shape: ', fc2.get_shape())\n",
    "    #assert(fc2.get_shape() == [1, 84])\n",
    "\n",
    "    # TODO: Layer 5: Fully Connected. Input = 84. Output = 10.\n",
    "    \n",
    "    w_fc3 = tf.Variable(tf.random_normal([84,10]))\n",
    "    b_fc3 = tf.Variable(tf.zeros(10))\n",
    "    \n",
    "    fc3 = tf.matmul(fc2, w_fc3)\n",
    "    logits = tf.add(fc3, b_fc3)\n",
    "    \n",
    "    print('logits shape: ', logits.get_shape())\n",
    "    #assert(logits.get_shape() == [1, 10])\n",
    "    \n",
    "    return logits"
   ]
  },
  {
   "cell_type": "markdown",
   "metadata": {},
   "source": [
    "## Features and Labels\n",
    "Train LeNet to classify [MNIST](http://yann.lecun.com/exdb/mnist/) data.\n",
    "\n",
    "`x` is a placeholder for a batch of input images.\n",
    "`y` is a placeholder for a batch of output labels.\n",
    "\n",
    "You do not need to modify this section."
   ]
  },
  {
   "cell_type": "code",
   "execution_count": 111,
   "metadata": {
    "scrolled": true
   },
   "outputs": [],
   "source": [
    "x = tf.placeholder(tf.float32, (None, 32, 32, 1))\n",
    "y = tf.placeholder(tf.int32, (None))\n",
    "one_hot_y = tf.one_hot(y, 10)"
   ]
  },
  {
   "cell_type": "markdown",
   "metadata": {},
   "source": [
    "## Training Pipeline\n",
    "Create a training pipeline that uses the model to classify MNIST data.\n",
    "\n",
    "You do not need to modify this section."
   ]
  },
  {
   "cell_type": "code",
   "execution_count": 112,
   "metadata": {
    "scrolled": false
   },
   "outputs": [
    {
     "name": "stdout",
     "output_type": "stream",
     "text": [
      "starting LeNet forward pass\n",
      "conv_1 shape A:  (28, 28, 6)\n",
      "conv_1 shape B:  (28, 28, 6)\n",
      "conv_1 shape C:  (28, 28, 6)\n",
      "pool_1 shape:  (14, 14, 6)\n",
      "conv_2 shape A:  (10, 10, 16)\n",
      "conv_2 shape B:  (10, 10, 16)\n",
      "pool_2 shape:  (5, 5, 16)\n",
      "flat shape:  (400,)\n",
      "fc1 shape:  (?, 120)\n",
      "fc1 shape:  (?, 120)\n",
      "fc2 shape:  (?, 84)\n",
      "fc2 shape:  (?, 84)\n",
      "logits shape:  (?, 10)\n"
     ]
    }
   ],
   "source": [
    "rate = 0.001\n",
    "\n",
    "logits = LeNet(x)\n",
    "cross_entropy = tf.nn.softmax_cross_entropy_with_logits(labels=one_hot_y, logits=logits)\n",
    "loss_operation = tf.reduce_mean(cross_entropy)\n",
    "optimizer = tf.train.AdamOptimizer(learning_rate = rate)\n",
    "training_operation = optimizer.minimize(loss_operation)"
   ]
  },
  {
   "cell_type": "markdown",
   "metadata": {},
   "source": [
    "## Model Evaluation\n",
    "Evaluate how well the loss and accuracy of the model for a given dataset.\n",
    "\n",
    "You do not need to modify this section."
   ]
  },
  {
   "cell_type": "code",
   "execution_count": 113,
   "metadata": {
    "collapsed": true,
    "scrolled": true
   },
   "outputs": [],
   "source": [
    "correct_prediction = tf.equal(tf.argmax(logits, 1), tf.argmax(one_hot_y, 1))\n",
    "accuracy_operation = tf.reduce_mean(tf.cast(correct_prediction, tf.float32))\n",
    "saver = tf.train.Saver()\n",
    "\n",
    "def evaluate(X_data, y_data):\n",
    "    num_examples = len(X_data)\n",
    "    total_accuracy = 0\n",
    "    sess = tf.get_default_session()\n",
    "    for offset in range(0, num_examples, BATCH_SIZE):\n",
    "        batch_x, batch_y = X_data[offset:offset+BATCH_SIZE], y_data[offset:offset+BATCH_SIZE]\n",
    "        accuracy = sess.run(accuracy_operation, feed_dict={x: batch_x, y: batch_y})\n",
    "        total_accuracy += (accuracy * len(batch_x))\n",
    "    return total_accuracy / num_examples"
   ]
  },
  {
   "cell_type": "markdown",
   "metadata": {},
   "source": [
    "## Train the Model\n",
    "Run the training data through the training pipeline to train the model.\n",
    "\n",
    "Before each epoch, shuffle the training set.\n",
    "\n",
    "After each epoch, measure the loss and accuracy of the validation set.\n",
    "\n",
    "Save the model after training.\n",
    "\n",
    "You do not need to modify this section."
   ]
  },
  {
   "cell_type": "code",
   "execution_count": 114,
   "metadata": {
    "scrolled": false
   },
   "outputs": [
    {
     "name": "stdout",
     "output_type": "stream",
     "text": [
      "Training...\n",
      "Batch Size:  64\n",
      "starting EPOCH 1 ...\n",
      "end EPOCH 1 ...\n",
      "Validation Accuracy = 0.855\n",
      "\n",
      "starting EPOCH 2 ...\n",
      "end EPOCH 2 ...\n",
      "Validation Accuracy = 0.907\n",
      "\n",
      "starting EPOCH 3 ...\n",
      "end EPOCH 3 ...\n",
      "Validation Accuracy = 0.920\n",
      "\n",
      "starting EPOCH 4 ...\n",
      "end EPOCH 4 ...\n",
      "Validation Accuracy = 0.931\n",
      "\n",
      "starting EPOCH 5 ...\n",
      "end EPOCH 5 ...\n",
      "Validation Accuracy = 0.934\n",
      "\n",
      "starting EPOCH 6 ...\n",
      "end EPOCH 6 ...\n",
      "Validation Accuracy = 0.941\n",
      "\n",
      "starting EPOCH 7 ...\n",
      "end EPOCH 7 ...\n",
      "Validation Accuracy = 0.950\n",
      "\n",
      "starting EPOCH 8 ...\n",
      "end EPOCH 8 ...\n",
      "Validation Accuracy = 0.952\n",
      "\n",
      "starting EPOCH 9 ...\n",
      "end EPOCH 9 ...\n",
      "Validation Accuracy = 0.954\n",
      "\n",
      "starting EPOCH 10 ...\n",
      "end EPOCH 10 ...\n",
      "Validation Accuracy = 0.954\n",
      "\n",
      "Model saved\n"
     ]
    }
   ],
   "source": [
    "with tf.Session() as sess:\n",
    "    sess.run(tf.global_variables_initializer())\n",
    "    num_examples = len(X_train)\n",
    "    \n",
    "    print(\"Training...\")\n",
    "    print(\"Batch Size: \", BATCH_SIZE)\n",
    "    for i in range(EPOCHS):\n",
    "        print(\"starting EPOCH {} ...\".format(i+1))\n",
    "        X_train, y_train = shuffle(X_train, y_train)\n",
    "        for offset in range(0, num_examples, BATCH_SIZE):\n",
    "            end = offset + BATCH_SIZE\n",
    "            batch_x, batch_y = X_train[offset:end], y_train[offset:end]\n",
    "            sess.run(training_operation, feed_dict={x: batch_x, y: batch_y})\n",
    "            \n",
    "        validation_accuracy = evaluate(X_validation, y_validation)\n",
    "        print(\"end EPOCH {} ...\".format(i+1))\n",
    "        print(\"Validation Accuracy = {:.3f}\".format(validation_accuracy))\n",
    "        print()\n",
    "        \n",
    "    saver.save(sess, './lenet')\n",
    "    print(\"Model saved\")"
   ]
  },
  {
   "cell_type": "markdown",
   "metadata": {},
   "source": [
    "## Evaluate the Model\n",
    "Once you are completely satisfied with your model, evaluate the performance of the model on the test set.\n",
    "\n",
    "Be sure to only do this once!\n",
    "\n",
    "If you were to measure the performance of your trained model on the test set, then improve your model, and then measure the performance of your model on the test set again, that would invalidate your test results. You wouldn't get a true measure of how well your model would perform against real data.\n",
    "\n",
    "You do not need to modify this section."
   ]
  },
  {
   "cell_type": "code",
   "execution_count": 115,
   "metadata": {
    "scrolled": true
   },
   "outputs": [
    {
     "name": "stdout",
     "output_type": "stream",
     "text": [
      "Test Accuracy = 0.950\n"
     ]
    }
   ],
   "source": [
    "with tf.Session() as sess:\n",
    "    saver.restore(sess, tf.train.latest_checkpoint('.'))\n",
    "\n",
    "    test_accuracy = evaluate(X_test, y_test)\n",
    "    print(\"Test Accuracy = {:.3f}\".format(test_accuracy))"
   ]
  },
  {
   "cell_type": "code",
   "execution_count": null,
   "metadata": {
    "collapsed": true
   },
   "outputs": [],
   "source": []
  }
 ],
 "metadata": {
  "anaconda-cloud": {},
  "kernelspec": {
   "display_name": "Python 3",
   "language": "python",
   "name": "python3"
  },
  "language_info": {
   "codemirror_mode": {
    "name": "ipython",
    "version": 3
   },
   "file_extension": ".py",
   "mimetype": "text/x-python",
   "name": "python",
   "nbconvert_exporter": "python",
   "pygments_lexer": "ipython3",
   "version": "3.5.2"
  },
  "widgets": {
   "state": {},
   "version": "1.1.2"
  }
 },
 "nbformat": 4,
 "nbformat_minor": 1
}
